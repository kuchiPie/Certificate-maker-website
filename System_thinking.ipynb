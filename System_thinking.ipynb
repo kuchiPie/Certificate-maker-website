{
  "nbformat": 4,
  "nbformat_minor": 0,
  "metadata": {
    "colab": {
      "name": "System thinking",
      "provenance": [],
      "include_colab_link": true
    },
    "kernelspec": {
      "name": "python3",
      "display_name": "Python 3"
    },
    "language_info": {
      "name": "python"
    }
  },
  "cells": [
    {
      "cell_type": "markdown",
      "metadata": {
        "id": "view-in-github",
        "colab_type": "text"
      },
      "source": [
        "<a href=\"https://colab.research.google.com/github/kuchiPie/Certificate-maker-website/blob/main/System_thinking.ipynb\" target=\"_parent\"><img src=\"https://colab.research.google.com/assets/colab-badge.svg\" alt=\"Open In Colab\"/></a>"
      ]
    },
    {
      "cell_type": "markdown",
      "source": [
        "#Imports"
      ],
      "metadata": {
        "id": "tuc46wqupzTc"
      }
    },
    {
      "cell_type": "code",
      "source": [
        "import pandas as pd\n",
        "import numpy as np\n",
        "import seaborn as sns\n",
        "import matplotlib.pyplot as plt\n",
        "import os"
      ],
      "metadata": {
        "id": "RrTw0DcZp3Mg"
      },
      "execution_count": 4,
      "outputs": []
    },
    {
      "cell_type": "markdown",
      "source": [
        "#Murder rates"
      ],
      "metadata": {
        "id": "P-JeoBnjErHT"
      }
    },
    {
      "cell_type": "code",
      "execution_count": 5,
      "metadata": {
        "id": "jMKBeOb4EXh8",
        "colab": {
          "base_uri": "https://localhost:8080/",
          "height": 1000
        },
        "outputId": "62f8c4e0-b528-48e2-9bd0-6d60d9afa45a"
      },
      "outputs": [
        {
          "output_type": "execute_result",
          "data": {
            "text/plain": [
              "   Si. No          Category              State/UT (Col. 2)    2018    2019  \\\n",
              "0       1              State                Andhra Pradesh   935.0   870.0   \n",
              "1       2              State             Arunachal Pradesh    62.0    60.0   \n",
              "2       3              State                         Assam  1241.0  1235.0   \n",
              "3       4              State                         Bihar  2934.0  3138.0   \n",
              "4       5              State                  Chhattisgarh   917.0   913.0   \n",
              "5       6              State                           Goa    29.0    33.0   \n",
              "6       7              State                       Gujarat  1072.0   993.0   \n",
              "7       8              State                       Haryana  1104.0  1137.0   \n",
              "8       9              State              Himachal Pradesh    99.0    70.0   \n",
              "9      10              State                     Jharkhand  1712.0  1626.0   \n",
              "10     11              State                     Karnataka  1334.0  1314.0   \n",
              "11     12              State                        Kerala   292.0   323.0   \n",
              "12     13              State                Madhya Pradesh  1879.0  1795.0   \n",
              "13     14              State                   Maharashtra  2199.0  2142.0   \n",
              "14     15              State                       Manipur    52.0    56.0   \n",
              "15     16              State                     Meghalaya    95.0    68.0   \n",
              "16     17              State                       Mizoram    27.0    22.0   \n",
              "17     18              State                      Nagaland    31.0    25.0   \n",
              "18     19              State                        Odisha  1378.0  1356.0   \n",
              "19     20              State                        Punjab   684.0   679.0   \n",
              "20     21              State                     Rajasthan  1508.0  1659.0   \n",
              "21     22              State                        Sikkim    12.0    17.0   \n",
              "22     23              State                    Tamil Nadu  1569.0  1745.0   \n",
              "23     24              State                     Telangana   786.0   839.0   \n",
              "24     25              State                       Tripura   137.0   144.0   \n",
              "25     26              State                 Uttar Pradesh  4018.0  3806.0   \n",
              "26     27              State                   Uttarakhand   211.0   199.0   \n",
              "27     28              State                   West Bengal  1933.0  1930.0   \n",
              "29     29  Union Territories                 A & N Islands    11.0    13.0   \n",
              "30     30  Union Territories                    Chandigarh    20.0    26.0   \n",
              "31     31  Union Territories  D & N Haveli and Daman & Diu    12.0    13.0   \n",
              "32     32  Union Territories                         Delhi   513.0   521.0   \n",
              "33     33  Union Territories               Jammu & Kashmir   181.0   119.0   \n",
              "34     34  Union Territories                        Ladakh     NaN     NaN   \n",
              "35     35  Union Territories                   Lakshadweep     1.0     0.0   \n",
              "36     36  Union Territories                    Puducherry    29.0    29.0   \n",
              "\n",
              "    2020  Mid-Year Projected Population (in Lakhs) (2020)  \\\n",
              "0    853                                            526.0   \n",
              "1     45                                             15.2   \n",
              "2   1131                                            347.9   \n",
              "3   3150                                           1219.0   \n",
              "4    972                                            292.4   \n",
              "5     34                                             15.5   \n",
              "6    982                                            691.7   \n",
              "7   1143                                            292.1   \n",
              "8     91                                             73.6   \n",
              "9   1592                                            381.2   \n",
              "10  1331                                            665.0   \n",
              "11   306                                            353.7   \n",
              "12  2101                                            837.6   \n",
              "13  2163                                           1236.8   \n",
              "14    46                                             31.4   \n",
              "15    79                                             32.6   \n",
              "16    28                                             12.1   \n",
              "17    25                                             21.8   \n",
              "18  1470                                            454.7   \n",
              "19   757                                            301.8   \n",
              "20  1719                                            786.1   \n",
              "21    11                                              6.7   \n",
              "22  1661                                            761.7   \n",
              "23   802                                            375.4   \n",
              "24   114                                             40.4   \n",
              "25  3779                                           2289.3   \n",
              "26   160                                            113.1   \n",
              "27  1948                                            977.2   \n",
              "29     5                                              4.0   \n",
              "30    22                                             12.0   \n",
              "31    13                                             10.4   \n",
              "32   472                                            203.2   \n",
              "33   149                                            133.4   \n",
              "34     0                                              3.0   \n",
              "35     0                                              0.7   \n",
              "36    39                                             15.5   \n",
              "\n",
              "    Rate of Murder (2020)  Chargesheeting Rate (2020)  \n",
              "0                     1.6                        90.2  \n",
              "1                     3.0                        75.5  \n",
              "2                     3.3                        72.8  \n",
              "3                     2.6                        91.4  \n",
              "4                     3.3                        92.2  \n",
              "5                     2.2                        89.7  \n",
              "6                     1.4                        90.3  \n",
              "7                     3.9                        72.1  \n",
              "8                     1.2                        78.4  \n",
              "9                     4.2                        80.0  \n",
              "10                    2.0                        91.6  \n",
              "11                    0.9                        87.8  \n",
              "12                    2.5                        91.5  \n",
              "13                    1.7                        88.8  \n",
              "14                    1.5                        57.1  \n",
              "15                    2.4                        12.4  \n",
              "16                    2.3                        81.0  \n",
              "17                    1.1                        66.7  \n",
              "18                    3.2                        88.5  \n",
              "19                    2.5                        87.3  \n",
              "20                    2.2                        64.4  \n",
              "21                    1.6                        70.0  \n",
              "22                    2.2                        96.0  \n",
              "23                    2.1                        87.0  \n",
              "24                    2.8                        82.8  \n",
              "25                    1.7                        86.4  \n",
              "26                    1.4                        81.5  \n",
              "27                    2.0                        87.5  \n",
              "29                    1.3                       100.0  \n",
              "30                    1.8                       100.0  \n",
              "31                    1.3                        88.9  \n",
              "32                    2.3                        89.6  \n",
              "33                    1.1                        80.0  \n",
              "34                    0.0                         NaN  \n",
              "35                    0.0                         NaN  \n",
              "36                    2.5                       100.0  "
            ],
            "text/html": [
              "\n",
              "  <div id=\"df-b422ca94-cabe-43c9-bb22-ce7b66eac38a\">\n",
              "    <div class=\"colab-df-container\">\n",
              "      <div>\n",
              "<style scoped>\n",
              "    .dataframe tbody tr th:only-of-type {\n",
              "        vertical-align: middle;\n",
              "    }\n",
              "\n",
              "    .dataframe tbody tr th {\n",
              "        vertical-align: top;\n",
              "    }\n",
              "\n",
              "    .dataframe thead th {\n",
              "        text-align: right;\n",
              "    }\n",
              "</style>\n",
              "<table border=\"1\" class=\"dataframe\">\n",
              "  <thead>\n",
              "    <tr style=\"text-align: right;\">\n",
              "      <th></th>\n",
              "      <th>Si. No</th>\n",
              "      <th>Category</th>\n",
              "      <th>State/UT (Col. 2)</th>\n",
              "      <th>2018</th>\n",
              "      <th>2019</th>\n",
              "      <th>2020</th>\n",
              "      <th>Mid-Year Projected Population (in Lakhs) (2020)</th>\n",
              "      <th>Rate of Murder (2020)</th>\n",
              "      <th>Chargesheeting Rate (2020)</th>\n",
              "    </tr>\n",
              "  </thead>\n",
              "  <tbody>\n",
              "    <tr>\n",
              "      <th>0</th>\n",
              "      <td>1</td>\n",
              "      <td>State</td>\n",
              "      <td>Andhra Pradesh</td>\n",
              "      <td>935.0</td>\n",
              "      <td>870.0</td>\n",
              "      <td>853</td>\n",
              "      <td>526.0</td>\n",
              "      <td>1.6</td>\n",
              "      <td>90.2</td>\n",
              "    </tr>\n",
              "    <tr>\n",
              "      <th>1</th>\n",
              "      <td>2</td>\n",
              "      <td>State</td>\n",
              "      <td>Arunachal Pradesh</td>\n",
              "      <td>62.0</td>\n",
              "      <td>60.0</td>\n",
              "      <td>45</td>\n",
              "      <td>15.2</td>\n",
              "      <td>3.0</td>\n",
              "      <td>75.5</td>\n",
              "    </tr>\n",
              "    <tr>\n",
              "      <th>2</th>\n",
              "      <td>3</td>\n",
              "      <td>State</td>\n",
              "      <td>Assam</td>\n",
              "      <td>1241.0</td>\n",
              "      <td>1235.0</td>\n",
              "      <td>1131</td>\n",
              "      <td>347.9</td>\n",
              "      <td>3.3</td>\n",
              "      <td>72.8</td>\n",
              "    </tr>\n",
              "    <tr>\n",
              "      <th>3</th>\n",
              "      <td>4</td>\n",
              "      <td>State</td>\n",
              "      <td>Bihar</td>\n",
              "      <td>2934.0</td>\n",
              "      <td>3138.0</td>\n",
              "      <td>3150</td>\n",
              "      <td>1219.0</td>\n",
              "      <td>2.6</td>\n",
              "      <td>91.4</td>\n",
              "    </tr>\n",
              "    <tr>\n",
              "      <th>4</th>\n",
              "      <td>5</td>\n",
              "      <td>State</td>\n",
              "      <td>Chhattisgarh</td>\n",
              "      <td>917.0</td>\n",
              "      <td>913.0</td>\n",
              "      <td>972</td>\n",
              "      <td>292.4</td>\n",
              "      <td>3.3</td>\n",
              "      <td>92.2</td>\n",
              "    </tr>\n",
              "    <tr>\n",
              "      <th>5</th>\n",
              "      <td>6</td>\n",
              "      <td>State</td>\n",
              "      <td>Goa</td>\n",
              "      <td>29.0</td>\n",
              "      <td>33.0</td>\n",
              "      <td>34</td>\n",
              "      <td>15.5</td>\n",
              "      <td>2.2</td>\n",
              "      <td>89.7</td>\n",
              "    </tr>\n",
              "    <tr>\n",
              "      <th>6</th>\n",
              "      <td>7</td>\n",
              "      <td>State</td>\n",
              "      <td>Gujarat</td>\n",
              "      <td>1072.0</td>\n",
              "      <td>993.0</td>\n",
              "      <td>982</td>\n",
              "      <td>691.7</td>\n",
              "      <td>1.4</td>\n",
              "      <td>90.3</td>\n",
              "    </tr>\n",
              "    <tr>\n",
              "      <th>7</th>\n",
              "      <td>8</td>\n",
              "      <td>State</td>\n",
              "      <td>Haryana</td>\n",
              "      <td>1104.0</td>\n",
              "      <td>1137.0</td>\n",
              "      <td>1143</td>\n",
              "      <td>292.1</td>\n",
              "      <td>3.9</td>\n",
              "      <td>72.1</td>\n",
              "    </tr>\n",
              "    <tr>\n",
              "      <th>8</th>\n",
              "      <td>9</td>\n",
              "      <td>State</td>\n",
              "      <td>Himachal Pradesh</td>\n",
              "      <td>99.0</td>\n",
              "      <td>70.0</td>\n",
              "      <td>91</td>\n",
              "      <td>73.6</td>\n",
              "      <td>1.2</td>\n",
              "      <td>78.4</td>\n",
              "    </tr>\n",
              "    <tr>\n",
              "      <th>9</th>\n",
              "      <td>10</td>\n",
              "      <td>State</td>\n",
              "      <td>Jharkhand</td>\n",
              "      <td>1712.0</td>\n",
              "      <td>1626.0</td>\n",
              "      <td>1592</td>\n",
              "      <td>381.2</td>\n",
              "      <td>4.2</td>\n",
              "      <td>80.0</td>\n",
              "    </tr>\n",
              "    <tr>\n",
              "      <th>10</th>\n",
              "      <td>11</td>\n",
              "      <td>State</td>\n",
              "      <td>Karnataka</td>\n",
              "      <td>1334.0</td>\n",
              "      <td>1314.0</td>\n",
              "      <td>1331</td>\n",
              "      <td>665.0</td>\n",
              "      <td>2.0</td>\n",
              "      <td>91.6</td>\n",
              "    </tr>\n",
              "    <tr>\n",
              "      <th>11</th>\n",
              "      <td>12</td>\n",
              "      <td>State</td>\n",
              "      <td>Kerala</td>\n",
              "      <td>292.0</td>\n",
              "      <td>323.0</td>\n",
              "      <td>306</td>\n",
              "      <td>353.7</td>\n",
              "      <td>0.9</td>\n",
              "      <td>87.8</td>\n",
              "    </tr>\n",
              "    <tr>\n",
              "      <th>12</th>\n",
              "      <td>13</td>\n",
              "      <td>State</td>\n",
              "      <td>Madhya Pradesh</td>\n",
              "      <td>1879.0</td>\n",
              "      <td>1795.0</td>\n",
              "      <td>2101</td>\n",
              "      <td>837.6</td>\n",
              "      <td>2.5</td>\n",
              "      <td>91.5</td>\n",
              "    </tr>\n",
              "    <tr>\n",
              "      <th>13</th>\n",
              "      <td>14</td>\n",
              "      <td>State</td>\n",
              "      <td>Maharashtra</td>\n",
              "      <td>2199.0</td>\n",
              "      <td>2142.0</td>\n",
              "      <td>2163</td>\n",
              "      <td>1236.8</td>\n",
              "      <td>1.7</td>\n",
              "      <td>88.8</td>\n",
              "    </tr>\n",
              "    <tr>\n",
              "      <th>14</th>\n",
              "      <td>15</td>\n",
              "      <td>State</td>\n",
              "      <td>Manipur</td>\n",
              "      <td>52.0</td>\n",
              "      <td>56.0</td>\n",
              "      <td>46</td>\n",
              "      <td>31.4</td>\n",
              "      <td>1.5</td>\n",
              "      <td>57.1</td>\n",
              "    </tr>\n",
              "    <tr>\n",
              "      <th>15</th>\n",
              "      <td>16</td>\n",
              "      <td>State</td>\n",
              "      <td>Meghalaya</td>\n",
              "      <td>95.0</td>\n",
              "      <td>68.0</td>\n",
              "      <td>79</td>\n",
              "      <td>32.6</td>\n",
              "      <td>2.4</td>\n",
              "      <td>12.4</td>\n",
              "    </tr>\n",
              "    <tr>\n",
              "      <th>16</th>\n",
              "      <td>17</td>\n",
              "      <td>State</td>\n",
              "      <td>Mizoram</td>\n",
              "      <td>27.0</td>\n",
              "      <td>22.0</td>\n",
              "      <td>28</td>\n",
              "      <td>12.1</td>\n",
              "      <td>2.3</td>\n",
              "      <td>81.0</td>\n",
              "    </tr>\n",
              "    <tr>\n",
              "      <th>17</th>\n",
              "      <td>18</td>\n",
              "      <td>State</td>\n",
              "      <td>Nagaland</td>\n",
              "      <td>31.0</td>\n",
              "      <td>25.0</td>\n",
              "      <td>25</td>\n",
              "      <td>21.8</td>\n",
              "      <td>1.1</td>\n",
              "      <td>66.7</td>\n",
              "    </tr>\n",
              "    <tr>\n",
              "      <th>18</th>\n",
              "      <td>19</td>\n",
              "      <td>State</td>\n",
              "      <td>Odisha</td>\n",
              "      <td>1378.0</td>\n",
              "      <td>1356.0</td>\n",
              "      <td>1470</td>\n",
              "      <td>454.7</td>\n",
              "      <td>3.2</td>\n",
              "      <td>88.5</td>\n",
              "    </tr>\n",
              "    <tr>\n",
              "      <th>19</th>\n",
              "      <td>20</td>\n",
              "      <td>State</td>\n",
              "      <td>Punjab</td>\n",
              "      <td>684.0</td>\n",
              "      <td>679.0</td>\n",
              "      <td>757</td>\n",
              "      <td>301.8</td>\n",
              "      <td>2.5</td>\n",
              "      <td>87.3</td>\n",
              "    </tr>\n",
              "    <tr>\n",
              "      <th>20</th>\n",
              "      <td>21</td>\n",
              "      <td>State</td>\n",
              "      <td>Rajasthan</td>\n",
              "      <td>1508.0</td>\n",
              "      <td>1659.0</td>\n",
              "      <td>1719</td>\n",
              "      <td>786.1</td>\n",
              "      <td>2.2</td>\n",
              "      <td>64.4</td>\n",
              "    </tr>\n",
              "    <tr>\n",
              "      <th>21</th>\n",
              "      <td>22</td>\n",
              "      <td>State</td>\n",
              "      <td>Sikkim</td>\n",
              "      <td>12.0</td>\n",
              "      <td>17.0</td>\n",
              "      <td>11</td>\n",
              "      <td>6.7</td>\n",
              "      <td>1.6</td>\n",
              "      <td>70.0</td>\n",
              "    </tr>\n",
              "    <tr>\n",
              "      <th>22</th>\n",
              "      <td>23</td>\n",
              "      <td>State</td>\n",
              "      <td>Tamil Nadu</td>\n",
              "      <td>1569.0</td>\n",
              "      <td>1745.0</td>\n",
              "      <td>1661</td>\n",
              "      <td>761.7</td>\n",
              "      <td>2.2</td>\n",
              "      <td>96.0</td>\n",
              "    </tr>\n",
              "    <tr>\n",
              "      <th>23</th>\n",
              "      <td>24</td>\n",
              "      <td>State</td>\n",
              "      <td>Telangana</td>\n",
              "      <td>786.0</td>\n",
              "      <td>839.0</td>\n",
              "      <td>802</td>\n",
              "      <td>375.4</td>\n",
              "      <td>2.1</td>\n",
              "      <td>87.0</td>\n",
              "    </tr>\n",
              "    <tr>\n",
              "      <th>24</th>\n",
              "      <td>25</td>\n",
              "      <td>State</td>\n",
              "      <td>Tripura</td>\n",
              "      <td>137.0</td>\n",
              "      <td>144.0</td>\n",
              "      <td>114</td>\n",
              "      <td>40.4</td>\n",
              "      <td>2.8</td>\n",
              "      <td>82.8</td>\n",
              "    </tr>\n",
              "    <tr>\n",
              "      <th>25</th>\n",
              "      <td>26</td>\n",
              "      <td>State</td>\n",
              "      <td>Uttar Pradesh</td>\n",
              "      <td>4018.0</td>\n",
              "      <td>3806.0</td>\n",
              "      <td>3779</td>\n",
              "      <td>2289.3</td>\n",
              "      <td>1.7</td>\n",
              "      <td>86.4</td>\n",
              "    </tr>\n",
              "    <tr>\n",
              "      <th>26</th>\n",
              "      <td>27</td>\n",
              "      <td>State</td>\n",
              "      <td>Uttarakhand</td>\n",
              "      <td>211.0</td>\n",
              "      <td>199.0</td>\n",
              "      <td>160</td>\n",
              "      <td>113.1</td>\n",
              "      <td>1.4</td>\n",
              "      <td>81.5</td>\n",
              "    </tr>\n",
              "    <tr>\n",
              "      <th>27</th>\n",
              "      <td>28</td>\n",
              "      <td>State</td>\n",
              "      <td>West Bengal</td>\n",
              "      <td>1933.0</td>\n",
              "      <td>1930.0</td>\n",
              "      <td>1948</td>\n",
              "      <td>977.2</td>\n",
              "      <td>2.0</td>\n",
              "      <td>87.5</td>\n",
              "    </tr>\n",
              "    <tr>\n",
              "      <th>29</th>\n",
              "      <td>29</td>\n",
              "      <td>Union Territories</td>\n",
              "      <td>A &amp; N Islands</td>\n",
              "      <td>11.0</td>\n",
              "      <td>13.0</td>\n",
              "      <td>5</td>\n",
              "      <td>4.0</td>\n",
              "      <td>1.3</td>\n",
              "      <td>100.0</td>\n",
              "    </tr>\n",
              "    <tr>\n",
              "      <th>30</th>\n",
              "      <td>30</td>\n",
              "      <td>Union Territories</td>\n",
              "      <td>Chandigarh</td>\n",
              "      <td>20.0</td>\n",
              "      <td>26.0</td>\n",
              "      <td>22</td>\n",
              "      <td>12.0</td>\n",
              "      <td>1.8</td>\n",
              "      <td>100.0</td>\n",
              "    </tr>\n",
              "    <tr>\n",
              "      <th>31</th>\n",
              "      <td>31</td>\n",
              "      <td>Union Territories</td>\n",
              "      <td>D &amp; N Haveli and Daman &amp; Diu</td>\n",
              "      <td>12.0</td>\n",
              "      <td>13.0</td>\n",
              "      <td>13</td>\n",
              "      <td>10.4</td>\n",
              "      <td>1.3</td>\n",
              "      <td>88.9</td>\n",
              "    </tr>\n",
              "    <tr>\n",
              "      <th>32</th>\n",
              "      <td>32</td>\n",
              "      <td>Union Territories</td>\n",
              "      <td>Delhi</td>\n",
              "      <td>513.0</td>\n",
              "      <td>521.0</td>\n",
              "      <td>472</td>\n",
              "      <td>203.2</td>\n",
              "      <td>2.3</td>\n",
              "      <td>89.6</td>\n",
              "    </tr>\n",
              "    <tr>\n",
              "      <th>33</th>\n",
              "      <td>33</td>\n",
              "      <td>Union Territories</td>\n",
              "      <td>Jammu &amp; Kashmir</td>\n",
              "      <td>181.0</td>\n",
              "      <td>119.0</td>\n",
              "      <td>149</td>\n",
              "      <td>133.4</td>\n",
              "      <td>1.1</td>\n",
              "      <td>80.0</td>\n",
              "    </tr>\n",
              "    <tr>\n",
              "      <th>34</th>\n",
              "      <td>34</td>\n",
              "      <td>Union Territories</td>\n",
              "      <td>Ladakh</td>\n",
              "      <td>NaN</td>\n",
              "      <td>NaN</td>\n",
              "      <td>0</td>\n",
              "      <td>3.0</td>\n",
              "      <td>0.0</td>\n",
              "      <td>NaN</td>\n",
              "    </tr>\n",
              "    <tr>\n",
              "      <th>35</th>\n",
              "      <td>35</td>\n",
              "      <td>Union Territories</td>\n",
              "      <td>Lakshadweep</td>\n",
              "      <td>1.0</td>\n",
              "      <td>0.0</td>\n",
              "      <td>0</td>\n",
              "      <td>0.7</td>\n",
              "      <td>0.0</td>\n",
              "      <td>NaN</td>\n",
              "    </tr>\n",
              "    <tr>\n",
              "      <th>36</th>\n",
              "      <td>36</td>\n",
              "      <td>Union Territories</td>\n",
              "      <td>Puducherry</td>\n",
              "      <td>29.0</td>\n",
              "      <td>29.0</td>\n",
              "      <td>39</td>\n",
              "      <td>15.5</td>\n",
              "      <td>2.5</td>\n",
              "      <td>100.0</td>\n",
              "    </tr>\n",
              "  </tbody>\n",
              "</table>\n",
              "</div>\n",
              "      <button class=\"colab-df-convert\" onclick=\"convertToInteractive('df-b422ca94-cabe-43c9-bb22-ce7b66eac38a')\"\n",
              "              title=\"Convert this dataframe to an interactive table.\"\n",
              "              style=\"display:none;\">\n",
              "        \n",
              "  <svg xmlns=\"http://www.w3.org/2000/svg\" height=\"24px\"viewBox=\"0 0 24 24\"\n",
              "       width=\"24px\">\n",
              "    <path d=\"M0 0h24v24H0V0z\" fill=\"none\"/>\n",
              "    <path d=\"M18.56 5.44l.94 2.06.94-2.06 2.06-.94-2.06-.94-.94-2.06-.94 2.06-2.06.94zm-11 1L8.5 8.5l.94-2.06 2.06-.94-2.06-.94L8.5 2.5l-.94 2.06-2.06.94zm10 10l.94 2.06.94-2.06 2.06-.94-2.06-.94-.94-2.06-.94 2.06-2.06.94z\"/><path d=\"M17.41 7.96l-1.37-1.37c-.4-.4-.92-.59-1.43-.59-.52 0-1.04.2-1.43.59L10.3 9.45l-7.72 7.72c-.78.78-.78 2.05 0 2.83L4 21.41c.39.39.9.59 1.41.59.51 0 1.02-.2 1.41-.59l7.78-7.78 2.81-2.81c.8-.78.8-2.07 0-2.86zM5.41 20L4 18.59l7.72-7.72 1.47 1.35L5.41 20z\"/>\n",
              "  </svg>\n",
              "      </button>\n",
              "      \n",
              "  <style>\n",
              "    .colab-df-container {\n",
              "      display:flex;\n",
              "      flex-wrap:wrap;\n",
              "      gap: 12px;\n",
              "    }\n",
              "\n",
              "    .colab-df-convert {\n",
              "      background-color: #E8F0FE;\n",
              "      border: none;\n",
              "      border-radius: 50%;\n",
              "      cursor: pointer;\n",
              "      display: none;\n",
              "      fill: #1967D2;\n",
              "      height: 32px;\n",
              "      padding: 0 0 0 0;\n",
              "      width: 32px;\n",
              "    }\n",
              "\n",
              "    .colab-df-convert:hover {\n",
              "      background-color: #E2EBFA;\n",
              "      box-shadow: 0px 1px 2px rgba(60, 64, 67, 0.3), 0px 1px 3px 1px rgba(60, 64, 67, 0.15);\n",
              "      fill: #174EA6;\n",
              "    }\n",
              "\n",
              "    [theme=dark] .colab-df-convert {\n",
              "      background-color: #3B4455;\n",
              "      fill: #D2E3FC;\n",
              "    }\n",
              "\n",
              "    [theme=dark] .colab-df-convert:hover {\n",
              "      background-color: #434B5C;\n",
              "      box-shadow: 0px 1px 3px 1px rgba(0, 0, 0, 0.15);\n",
              "      filter: drop-shadow(0px 1px 2px rgba(0, 0, 0, 0.3));\n",
              "      fill: #FFFFFF;\n",
              "    }\n",
              "  </style>\n",
              "\n",
              "      <script>\n",
              "        const buttonEl =\n",
              "          document.querySelector('#df-b422ca94-cabe-43c9-bb22-ce7b66eac38a button.colab-df-convert');\n",
              "        buttonEl.style.display =\n",
              "          google.colab.kernel.accessAllowed ? 'block' : 'none';\n",
              "\n",
              "        async function convertToInteractive(key) {\n",
              "          const element = document.querySelector('#df-b422ca94-cabe-43c9-bb22-ce7b66eac38a');\n",
              "          const dataTable =\n",
              "            await google.colab.kernel.invokeFunction('convertToInteractive',\n",
              "                                                     [key], {});\n",
              "          if (!dataTable) return;\n",
              "\n",
              "          const docLinkHtml = 'Like what you see? Visit the ' +\n",
              "            '<a target=\"_blank\" href=https://colab.research.google.com/notebooks/data_table.ipynb>data table notebook</a>'\n",
              "            + ' to learn more about interactive tables.';\n",
              "          element.innerHTML = '';\n",
              "          dataTable['output_type'] = 'display_data';\n",
              "          await google.colab.output.renderOutput(dataTable, element);\n",
              "          const docLink = document.createElement('div');\n",
              "          docLink.innerHTML = docLinkHtml;\n",
              "          element.appendChild(docLink);\n",
              "        }\n",
              "      </script>\n",
              "    </div>\n",
              "  </div>\n",
              "  "
            ]
          },
          "metadata": {},
          "execution_count": 5
        }
      ],
      "source": [
        "murder_cases = pd.read_csv(\"/content/murder cases.csv\",index_col = False, )\n",
        "murder_cases.pop(\"Note of 2018\")\n",
        "murder_cases.pop(\"Note of 2019\")\n",
        "murder_cases.drop([28,37,38],inplace = True)\n",
        "murder_cases"
      ]
    },
    {
      "cell_type": "code",
      "source": [
        "murder_18 = murder_cases[['State/UT (Col. 2)','2018']]\n",
        "murder_18.sort_values(\"2018\",inplace = True )\n",
        "y_18 = murder_18['2018'].to_numpy()\n",
        "states = murder_18['State/UT (Col. 2)'].to_numpy()"
      ],
      "metadata": {
        "colab": {
          "base_uri": "https://localhost:8080/"
        },
        "id": "OhhdYOr5oWXu",
        "outputId": "71e6a4f1-e06a-43af-8723-17a19c9ce38d"
      },
      "execution_count": 18,
      "outputs": [
        {
          "output_type": "stream",
          "name": "stderr",
          "text": [
            "/usr/local/lib/python3.7/dist-packages/pandas/util/_decorators.py:311: SettingWithCopyWarning: \n",
            "A value is trying to be set on a copy of a slice from a DataFrame\n",
            "\n",
            "See the caveats in the documentation: https://pandas.pydata.org/pandas-docs/stable/user_guide/indexing.html#returning-a-view-versus-a-copy\n",
            "  return func(*args, **kwargs)\n"
          ]
        }
      ]
    },
    {
      "cell_type": "code",
      "source": [
        "sns.barplot(x = y_18, y = states, orient = 'h',)"
      ],
      "metadata": {
        "colab": {
          "base_uri": "https://localhost:8080/",
          "height": 286
        },
        "id": "G_IdoR60590m",
        "outputId": "e6bc4636-9957-4141-b491-d40ff529d7be"
      },
      "execution_count": 7,
      "outputs": [
        {
          "output_type": "execute_result",
          "data": {
            "text/plain": [
              "<matplotlib.axes._subplots.AxesSubplot at 0x7fed48f428d0>"
            ]
          },
          "metadata": {},
          "execution_count": 7
        },
        {
          "output_type": "display_data",
          "data": {
            "text/plain": [
              "<Figure size 432x288 with 1 Axes>"
            ],
            "image/png": "[encoded data removed]"
          },
          "metadata": {
            "needs_background": "light"
          }
        }
      ]
    },
    {
      "cell_type": "code",
      "source": [
        "murder_19 = murder_cases[['State/UT (Col. 2)','2019']]\n",
        "murder_19.sort_values(\"2019\",inplace = True )\n",
        "y_19 = murder_19['2019'].to_numpy()\n",
        "states = murder_19['State/UT (Col. 2)'].to_numpy()"
      ],
      "metadata": {
        "colab": {
          "base_uri": "https://localhost:8080/"
        },
        "id": "0kumejEohEuy",
        "outputId": "90fe9d18-0264-47d7-df09-9bd102dc02a2"
      },
      "execution_count": 8,
      "outputs": [
        {
          "output_type": "stream",
          "name": "stderr",
          "text": [
            "/usr/local/lib/python3.7/dist-packages/pandas/util/_decorators.py:311: SettingWithCopyWarning: \n",
            "A value is trying to be set on a copy of a slice from a DataFrame\n",
            "\n",
            "See the caveats in the documentation: https://pandas.pydata.org/pandas-docs/stable/user_guide/indexing.html#returning-a-view-versus-a-copy\n",
            "  return func(*args, **kwargs)\n"
          ]
        }
      ]
    },
    {
      "cell_type": "code",
      "source": [
        "sns.barplot(x = y_19, y = states, orient = 'h', linewidth = 5)"
      ],
      "metadata": {
        "colab": {
          "base_uri": "https://localhost:8080/",
          "height": 286
        },
        "id": "Z_H7jPBd6B1e",
        "outputId": "a7659ea5-ff69-4609-9189-11a5c651292f"
      },
      "execution_count": 9,
      "outputs": [
        {
          "output_type": "execute_result",
          "data": {
            "text/plain": [
              "<matplotlib.axes._subplots.AxesSubplot at 0x7fed4976a210>"
            ]
          },
          "metadata": {},
          "execution_count": 9
        },
        {
          "output_type": "display_data",
          "data": {
            "text/plain": [
              "<Figure size 432x288 with 1 Axes>"
            ],
            "image/png": "[encoded data removed]"
          },
          "metadata": {
            "needs_background": "light"
          }
        }
      ]
    },
    {
      "cell_type": "code",
      "source": [
        "murder_20 = murder_cases[['State/UT (Col. 2)','2020']]\n",
        "murder_20.sort_values(\"2020\",inplace = True )\n",
        "y_20 = murder_20['2020'].to_numpy()\n",
        "states = murder_20['State/UT (Col. 2)'].to_numpy()"
      ],
      "metadata": {
        "colab": {
          "base_uri": "https://localhost:8080/"
        },
        "id": "rLFDN3s3hCPp",
        "outputId": "3acfb66d-1fce-4465-9dcf-382eef3ee0c1"
      },
      "execution_count": 10,
      "outputs": [
        {
          "output_type": "stream",
          "name": "stderr",
          "text": [
            "/usr/local/lib/python3.7/dist-packages/pandas/util/_decorators.py:311: SettingWithCopyWarning: \n",
            "A value is trying to be set on a copy of a slice from a DataFrame\n",
            "\n",
            "See the caveats in the documentation: https://pandas.pydata.org/pandas-docs/stable/user_guide/indexing.html#returning-a-view-versus-a-copy\n",
            "  return func(*args, **kwargs)\n"
          ]
        }
      ]
    },
    {
      "cell_type": "code",
      "source": [
        "sns.barplot(x = y_20, y = states, orient = 'h', linewidth = 5)"
      ],
      "metadata": {
        "colab": {
          "base_uri": "https://localhost:8080/",
          "height": 286
        },
        "id": "p7CBJIIk6ER6",
        "outputId": "fed4ef31-542b-48de-c4a2-788f5684f0d3"
      },
      "execution_count": 11,
      "outputs": [
        {
          "output_type": "execute_result",
          "data": {
            "text/plain": [
              "<matplotlib.axes._subplots.AxesSubplot at 0x7fed4876d110>"
            ]
          },
          "metadata": {},
          "execution_count": 11
        },
        {
          "output_type": "display_data",
          "data": {
            "text/plain": [
              "<Figure size 432x288 with 1 Axes>"
            ],
            "image/png": "[encoded data removed]"
          },
          "metadata": {
            "needs_background": "light"
          }
        }
      ]
    },
    {
      "cell_type": "code",
      "source": [
        "murder_change = murder_cases[['State/UT (Col. 2)']]\n",
        "murder_change['change from 18 to 19'] = murder_cases['2019'] - murder_cases['2018']\n",
        "murder_change['change from 19 to 20'] = murder_cases['2020'] - murder_cases['2019']"
      ],
      "metadata": {
        "id": "jsWkuS-2rkQt",
        "colab": {
          "base_uri": "https://localhost:8080/"
        },
        "outputId": "5ae148fa-dbf8-4303-ff78-cff727c13224"
      },
      "execution_count": 12,
      "outputs": [
        {
          "output_type": "stream",
          "name": "stderr",
          "text": [
            "/usr/local/lib/python3.7/dist-packages/ipykernel_launcher.py:2: SettingWithCopyWarning: \n",
            "A value is trying to be set on a copy of a slice from a DataFrame.\n",
            "Try using .loc[row_indexer,col_indexer] = value instead\n",
            "\n",
            "See the caveats in the documentation: https://pandas.pydata.org/pandas-docs/stable/user_guide/indexing.html#returning-a-view-versus-a-copy\n",
            "  \n",
            "/usr/local/lib/python3.7/dist-packages/ipykernel_launcher.py:3: SettingWithCopyWarning: \n",
            "A value is trying to be set on a copy of a slice from a DataFrame.\n",
            "Try using .loc[row_indexer,col_indexer] = value instead\n",
            "\n",
            "See the caveats in the documentation: https://pandas.pydata.org/pandas-docs/stable/user_guide/indexing.html#returning-a-view-versus-a-copy\n",
            "  This is separate from the ipykernel package so we can avoid doing imports until\n"
          ]
        }
      ]
    },
    {
      "cell_type": "code",
      "source": [
        "murder_change.sort_values(\"change from 18 to 19\",inplace = True )\n",
        "y_1819 = murder_change['change from 18 to 19'].to_numpy()\n",
        "states = murder_change['State/UT (Col. 2)'].to_numpy()"
      ],
      "metadata": {
        "colab": {
          "base_uri": "https://localhost:8080/"
        },
        "id": "ZPC2fRRv5Z6p",
        "outputId": "65bedd4a-d6b8-49b4-fd54-d92fa6567d62"
      },
      "execution_count": 13,
      "outputs": [
        {
          "output_type": "stream",
          "name": "stderr",
          "text": [
            "/usr/local/lib/python3.7/dist-packages/pandas/util/_decorators.py:311: SettingWithCopyWarning: \n",
            "A value is trying to be set on a copy of a slice from a DataFrame\n",
            "\n",
            "See the caveats in the documentation: https://pandas.pydata.org/pandas-docs/stable/user_guide/indexing.html#returning-a-view-versus-a-copy\n",
            "  return func(*args, **kwargs)\n"
          ]
        }
      ]
    },
    {
      "cell_type": "code",
      "source": [
        "sns.barplot(x = y_1819, y = states, orient = 'h', linewidth = 5)"
      ],
      "metadata": {
        "colab": {
          "base_uri": "https://localhost:8080/",
          "height": 286
        },
        "id": "YQQnFihd6Ido",
        "outputId": "712e71a0-2c8f-4e44-c4a7-a75b8dc481ff"
      },
      "execution_count": 14,
      "outputs": [
        {
          "output_type": "execute_result",
          "data": {
            "text/plain": [
              "<matplotlib.axes._subplots.AxesSubplot at 0x7fed48726050>"
            ]
          },
          "metadata": {},
          "execution_count": 14
        },
        {
          "output_type": "display_data",
          "data": {
            "text/plain": [
              "<Figure size 432x288 with 1 Axes>"
            ],
            "image/png": "[encoded data removed]"
          },
          "metadata": {
            "needs_background": "light"
          }
        }
      ]
    },
    {
      "cell_type": "code",
      "source": [
        "murder_change.sort_values(\"change from 19 to 20\",inplace = True )\n",
        "y_1819 = murder_change['change from 19 to 20'].to_numpy()\n",
        "states = murder_change['State/UT (Col. 2)'].to_numpy()"
      ],
      "metadata": {
        "colab": {
          "base_uri": "https://localhost:8080/"
        },
        "id": "785g375k5ZCU",
        "outputId": "f67a1a9e-1fda-4444-f32e-934020e3c72c"
      },
      "execution_count": 15,
      "outputs": [
        {
          "output_type": "stream",
          "name": "stderr",
          "text": [
            "/usr/local/lib/python3.7/dist-packages/pandas/util/_decorators.py:311: SettingWithCopyWarning: \n",
            "A value is trying to be set on a copy of a slice from a DataFrame\n",
            "\n",
            "See the caveats in the documentation: https://pandas.pydata.org/pandas-docs/stable/user_guide/indexing.html#returning-a-view-versus-a-copy\n",
            "  return func(*args, **kwargs)\n"
          ]
        }
      ]
    },
    {
      "cell_type": "code",
      "source": [
        "sns.barplot(x = y_1819, y = states, orient = 'h', linewidth = 5)"
      ],
      "metadata": {
        "colab": {
          "base_uri": "https://localhost:8080/",
          "height": 286
        },
        "id": "625r8YU_6Kuu",
        "outputId": "72e54bc3-ef37-4ccf-c39a-e9b999178c88"
      },
      "execution_count": 16,
      "outputs": [
        {
          "output_type": "execute_result",
          "data": {
            "text/plain": [
              "<matplotlib.axes._subplots.AxesSubplot at 0x7fed48579050>"
            ]
          },
          "metadata": {},
          "execution_count": 16
        },
        {
          "output_type": "display_data",
          "data": {
            "text/plain": [
              "<Figure size 432x288 with 1 Axes>"
            ],
            "image/png": "[encoded data removed]"
          },
          "metadata": {
            "needs_background": "light"
          }
        }
      ]
    },
    {
      "cell_type": "markdown",
      "source": [
        "#Rape cases"
      ],
      "metadata": {
        "id": "p35OdAvTEwjK"
      }
    },
    {
      "cell_type": "code",
      "source": [
        ""
      ],
      "metadata": {
        "id": "SoKJdVvVEzLi"
      },
      "execution_count": 16,
      "outputs": []
    },
    {
      "cell_type": "markdown",
      "source": [
        "#Cyber Crime"
      ],
      "metadata": {
        "id": "zKC1bisoEzda"
      }
    },
    {
      "cell_type": "code",
      "source": [
        ""
      ],
      "metadata": {
        "id": "WYUd58QkE2kE"
      },
      "execution_count": 16,
      "outputs": []
    }
  ]
}